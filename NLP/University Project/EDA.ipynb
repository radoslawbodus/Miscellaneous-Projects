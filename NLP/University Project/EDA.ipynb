{
 "cells": [
  {
   "cell_type": "code",
   "execution_count": 1,
   "metadata": {},
   "outputs": [],
   "source": [
    "import numpy as np\n",
    "import pandas as pd\n",
    "import os\n",
    "import matplotlib.pyplot as plt"
   ]
  },
  {
   "cell_type": "code",
   "execution_count": 2,
   "metadata": {},
   "outputs": [],
   "source": [
    "from cleanin import clean_titles, first_genre_filmweb, down_sample_both_dfs"
   ]
  },
  {
   "cell_type": "code",
   "execution_count": 3,
   "metadata": {},
   "outputs": [
    {
     "name": "stdout",
     "output_type": "stream",
     "text": [
      "test_multiple (__main__.GenreTakerTest) ... ok\n",
      "test_single (__main__.GenreTakerTest) ... ok\n",
      "test_single_larger (__main__.GenreTakerTest) ... ok\n",
      "test_single_multiple (__main__.GenreTakerTest) ... ok\n",
      "test_equal (__main__.SamplingTest) ... ok\n",
      "test_not_equal (__main__.SamplingTest) ... ok\n",
      "test_all (__main__.TitleCleaningTest) ... ok\n",
      "test_proper (__main__.TitleCleaningTest) ... ok\n",
      "test_upper (__main__.TitleCleaningTest) ... ok\n",
      "\n",
      "----------------------------------------------------------------------\n",
      "Ran 9 tests in 0.026s\n",
      "\n",
      "OK\n"
     ]
    }
   ],
   "source": [
    "## test functions before running\n",
    "!python test_function.py -v"
   ]
  },
  {
   "cell_type": "markdown",
   "metadata": {},
   "source": [
    "### EDA + cleaning"
   ]
  },
  {
   "cell_type": "code",
   "execution_count": 4,
   "metadata": {},
   "outputs": [
    {
     "data": {
      "text/html": [
       "<div>\n",
       "<style scoped>\n",
       "    .dataframe tbody tr th:only-of-type {\n",
       "        vertical-align: middle;\n",
       "    }\n",
       "\n",
       "    .dataframe tbody tr th {\n",
       "        vertical-align: top;\n",
       "    }\n",
       "\n",
       "    .dataframe thead th {\n",
       "        text-align: right;\n",
       "    }\n",
       "</style>\n",
       "<table border=\"1\" class=\"dataframe\">\n",
       "  <thead>\n",
       "    <tr style=\"text-align: right;\">\n",
       "      <th></th>\n",
       "      <th>title</th>\n",
       "      <th>originalTitle</th>\n",
       "      <th>description</th>\n",
       "      <th>genre</th>\n",
       "    </tr>\n",
       "  </thead>\n",
       "  <tbody>\n",
       "    <tr>\n",
       "      <th>0</th>\n",
       "      <td>Zielona mila</td>\n",
       "      <td>The Green Mile</td>\n",
       "      <td>Emerytowany strażnik więzienny opowiada przyja...</td>\n",
       "      <td>Dramat</td>\n",
       "    </tr>\n",
       "    <tr>\n",
       "      <th>1</th>\n",
       "      <td>Skazani na Shawshank</td>\n",
       "      <td>The Shawshank Redemption</td>\n",
       "      <td>Adaptacja opowiadania Stephena Kinga. Niesłusz...</td>\n",
       "      <td>Dramat</td>\n",
       "    </tr>\n",
       "    <tr>\n",
       "      <th>2</th>\n",
       "      <td>Forrest Gump</td>\n",
       "      <td>NaN</td>\n",
       "      <td>Historia życia Forresta, chłopca o niskim ilor...</td>\n",
       "      <td>Dramat / Komedia</td>\n",
       "    </tr>\n",
       "    <tr>\n",
       "      <th>3</th>\n",
       "      <td>Leon zawodowiec</td>\n",
       "      <td>Léon</td>\n",
       "      <td>Płatny morderca ratuje dwunastoletnią dziewczy...</td>\n",
       "      <td>Dramat / Kryminał</td>\n",
       "    </tr>\n",
       "    <tr>\n",
       "      <th>4</th>\n",
       "      <td>Requiem dla snu</td>\n",
       "      <td>Requiem for a Dream</td>\n",
       "      <td>Historia czwórki bohaterów, dla których używki...</td>\n",
       "      <td>Dramat</td>\n",
       "    </tr>\n",
       "  </tbody>\n",
       "</table>\n",
       "</div>"
      ],
      "text/plain": [
       "                  title             originalTitle  \\\n",
       "0          Zielona mila            The Green Mile   \n",
       "1  Skazani na Shawshank  The Shawshank Redemption   \n",
       "2          Forrest Gump                       NaN   \n",
       "3       Leon zawodowiec                      Léon   \n",
       "4       Requiem dla snu       Requiem for a Dream   \n",
       "\n",
       "                                         description              genre  \n",
       "0  Emerytowany strażnik więzienny opowiada przyja...             Dramat  \n",
       "1  Adaptacja opowiadania Stephena Kinga. Niesłusz...             Dramat  \n",
       "2  Historia życia Forresta, chłopca o niskim ilor...   Dramat / Komedia  \n",
       "3  Płatny morderca ratuje dwunastoletnią dziewczy...  Dramat / Kryminał  \n",
       "4  Historia czwórki bohaterów, dla których używki...             Dramat  "
      ]
     },
     "execution_count": 4,
     "metadata": {},
     "output_type": "execute_result"
    }
   ],
   "source": [
    "## Read filmweb data\n",
    "df_filmweb = pd.read_csv(\"data/filmweb.csv\")\n",
    "df_filmweb.head()"
   ]
  },
  {
   "cell_type": "code",
   "execution_count": 5,
   "metadata": {},
   "outputs": [],
   "source": [
    "## Read train imdb data\n",
    "df_imdb_1 = pd.read_csv('data/train_data.txt', sep=\":::\", header=None, engine='python')\n",
    "df_imdb_1.columns = ['id', 'title', 'genre', 'description']\n",
    "df_imdb_1 = df_imdb_1.drop(columns=[\"id\"])"
   ]
  },
  {
   "cell_type": "code",
   "execution_count": 6,
   "metadata": {},
   "outputs": [],
   "source": [
    "## Read test imdb data\n",
    "df_imdb_2 = pd.read_csv('data/test_data_solution.txt', sep=\":::\", header=None, engine='python')\n",
    "df_imdb_2.columns = ['id', 'title', 'genre', 'description']\n",
    "df_imdb_2 = df_imdb_2.drop(columns=[\"id\"])"
   ]
  },
  {
   "cell_type": "code",
   "execution_count": 7,
   "metadata": {},
   "outputs": [],
   "source": [
    "## Combine the imdb datasets to create one big dataset\n",
    "df_imdb_all = pd.concat([df_imdb_1, df_imdb_2], axis=0).reset_index(drop=True)"
   ]
  },
  {
   "cell_type": "code",
   "execution_count": 8,
   "metadata": {},
   "outputs": [
    {
     "name": "stdout",
     "output_type": "stream",
     "text": [
      "Number of samples in filmweb dataset 9,943\n",
      "Number of samples in imdb dataset 108,414\n"
     ]
    }
   ],
   "source": [
    "## Compare the sizes of two datasets\n",
    "print(f\"Number of samples in filmweb dataset {df_filmweb.shape[0]:,}\")\n",
    "print(f\"Number of samples in imdb dataset {df_imdb_all.shape[0]:,}\")"
   ]
  },
  {
   "cell_type": "code",
   "execution_count": 9,
   "metadata": {},
   "outputs": [],
   "source": [
    "## Check for Nan's"
   ]
  },
  {
   "cell_type": "code",
   "execution_count": 10,
   "metadata": {},
   "outputs": [
    {
     "data": {
      "text/plain": [
       "title               0\n",
       "originalTitle    2366\n",
       "description         0\n",
       "genre               0\n",
       "dtype: int64"
      ]
     },
     "execution_count": 10,
     "metadata": {},
     "output_type": "execute_result"
    }
   ],
   "source": [
    "## We can get the \"originalTitle\" from the title column\n",
    "## Because if the title is the same as originalTitle then the second column\n",
    "## has a NaN as an entry\n",
    "df_filmweb.isna().sum()"
   ]
  },
  {
   "cell_type": "code",
   "execution_count": 11,
   "metadata": {},
   "outputs": [
    {
     "data": {
      "text/plain": [
       "title          0\n",
       "genre          0\n",
       "description    0\n",
       "dtype: int64"
      ]
     },
     "execution_count": 11,
     "metadata": {},
     "output_type": "execute_result"
    }
   ],
   "source": [
    "df_imdb_all.isna().sum()"
   ]
  },
  {
   "cell_type": "code",
   "execution_count": 12,
   "metadata": {},
   "outputs": [],
   "source": [
    "## If the \"originalTitle\" is None then the \"title\" is the \"originalTitle\"\n",
    "df_filmweb[\"originalTitle\"][df_filmweb[\"originalTitle\"].isna()] = df_filmweb[\"title\"][df_filmweb[\"originalTitle\"].isna()]\n",
    "\n",
    "## Let's also drop the \"title\" column because it's no longer needed and rename the \"originalTitle\" column to \"title\"\n",
    "df_filmweb = df_filmweb.drop(columns=\"title\").rename({\"originalTitle\": \"title\"}, axis=1)"
   ]
  },
  {
   "cell_type": "code",
   "execution_count": 13,
   "metadata": {},
   "outputs": [
    {
     "data": {
      "text/plain": [
       "title          0\n",
       "description    0\n",
       "genre          0\n",
       "dtype: int64"
      ]
     },
     "execution_count": 13,
     "metadata": {},
     "output_type": "execute_result"
    }
   ],
   "source": [
    "## Check again for missing values for filmweb dataset\n",
    "df_filmweb.isna().sum()"
   ]
  },
  {
   "cell_type": "code",
   "execution_count": 14,
   "metadata": {},
   "outputs": [],
   "source": [
    "## Check unique genres in each move database"
   ]
  },
  {
   "cell_type": "code",
   "execution_count": 15,
   "metadata": {},
   "outputs": [
    {
     "data": {
      "text/plain": [
       "27"
      ]
     },
     "execution_count": 15,
     "metadata": {},
     "output_type": "execute_result"
    }
   ],
   "source": [
    "df_imdb_all.genre.nunique()"
   ]
  },
  {
   "cell_type": "code",
   "execution_count": 16,
   "metadata": {},
   "outputs": [
    {
     "data": {
      "text/plain": [
       "959"
      ]
     },
     "execution_count": 16,
     "metadata": {},
     "output_type": "execute_result"
    }
   ],
   "source": [
    "## Let's inspect what's going on here\n",
    "df_filmweb.genre.nunique()"
   ]
  },
  {
   "cell_type": "code",
   "execution_count": 17,
   "metadata": {},
   "outputs": [
    {
     "data": {
      "text/plain": [
       "Dramat                                   1038\n",
       "Komedia                                   491\n",
       "Horror                                    489\n",
       "Dramat / Komedia                          382\n",
       "Thriller                                  353\n",
       "                                         ... \n",
       "Sportowy                                    1\n",
       "Sensacyjny / Psychologiczny                 1\n",
       "Dramat / Kryminał / Wojenny                 1\n",
       "Biograficzny / Komedia / Wojenny            1\n",
       "Dramat / Komedia / Kryminał / Musical       1\n",
       "Name: genre, Length: 959, dtype: int64"
      ]
     },
     "execution_count": 17,
     "metadata": {},
     "output_type": "execute_result"
    }
   ],
   "source": [
    "## As we can probably deduce a movie can belong to multiple genre\n",
    "## For the sake of comparison with imdb dataset let's\n",
    "## only take the first occuring genre as the \"true\" genre of the movie\n",
    "## But before that let's first check for the existance of the same\n",
    "## movies in both datasets, so we can compare them later\n",
    "df_filmweb.genre.value_counts()"
   ]
  },
  {
   "cell_type": "markdown",
   "metadata": {},
   "source": [
    "Let's inspect how the title of both datasets look like"
   ]
  },
  {
   "cell_type": "code",
   "execution_count": 18,
   "metadata": {},
   "outputs": [
    {
     "data": {
      "text/plain": [
       "0                 The Green Mile\n",
       "1       The Shawshank Redemption\n",
       "2                   Forrest Gump\n",
       "3                           Léon\n",
       "4            Requiem for a Dream\n",
       "                  ...           \n",
       "9938                  Dark Angel\n",
       "9939          Pożegnanie z Marią\n",
       "9940                         Rh+\n",
       "9941     Wet Hot American Summer\n",
       "9942                The Sicilian\n",
       "Name: title, Length: 9943, dtype: object"
      ]
     },
     "execution_count": 18,
     "metadata": {},
     "output_type": "execute_result"
    }
   ],
   "source": [
    "df_filmweb.title"
   ]
  },
  {
   "cell_type": "code",
   "execution_count": 19,
   "metadata": {},
   "outputs": [
    {
     "data": {
      "text/plain": [
       "0              Oscar et la dame rose (2009) \n",
       "1                              Cupid (1997) \n",
       "2          Young, Wild and Wonderful (1980) \n",
       "3                     The Secret Sin (1915) \n",
       "4                    The Unrecovered (2007) \n",
       "                         ...                \n",
       "108409       \"Tales of Light & Dark\" (2013) \n",
       "108410          Der letzte Mohikaner (1965) \n",
       "108411                  Oliver Twink (2007) \n",
       "108412                    Slipstream (1973) \n",
       "108413            Curitiba Zero Grau (2010) \n",
       "Name: title, Length: 108414, dtype: object"
      ]
     },
     "execution_count": 19,
     "metadata": {},
     "output_type": "execute_result"
    }
   ],
   "source": [
    "df_imdb_all.title"
   ]
  },
  {
   "cell_type": "markdown",
   "metadata": {},
   "source": [
    "Unfortunately the imdb dataset contains also the year in which the movie was released(probably), therefore right now we won't be able to check if there are any movies that belong to both datasets, so let's clean the title column in both of the datasets <br>\n",
    "The cleaning consists of deleting the \"(year)\" part from each title and also dropping the special characters and making each of them a lower case character."
   ]
  },
  {
   "cell_type": "code",
   "execution_count": 20,
   "metadata": {},
   "outputs": [],
   "source": [
    "## Cleanin'\n",
    "titles_filmweb = df_filmweb[\"title\"].pipe(clean_titles)\n",
    "titles_imdb = df_imdb_all[\"title\"].pipe(clean_titles)"
   ]
  },
  {
   "cell_type": "code",
   "execution_count": 21,
   "metadata": {},
   "outputs": [
    {
     "data": {
      "text/plain": [
       "2034"
      ]
     },
     "execution_count": 21,
     "metadata": {},
     "output_type": "execute_result"
    }
   ],
   "source": [
    "## Let's check how many titles belong to both datasets\n",
    "len(set(titles_filmweb) & set(titles_imdb))"
   ]
  },
  {
   "cell_type": "code",
   "execution_count": 22,
   "metadata": {},
   "outputs": [],
   "source": [
    "## Let's replace the the titles with the cleaned ones\n",
    "df_filmweb[\"title\"] = df_filmweb[\"title\"].pipe(clean_titles)\n",
    "df_imdb_all[\"title\"] = df_imdb_all[\"title\"].pipe(clean_titles)"
   ]
  },
  {
   "cell_type": "code",
   "execution_count": 23,
   "metadata": {},
   "outputs": [
    {
     "data": {
      "text/html": [
       "<div>\n",
       "<style scoped>\n",
       "    .dataframe tbody tr th:only-of-type {\n",
       "        vertical-align: middle;\n",
       "    }\n",
       "\n",
       "    .dataframe tbody tr th {\n",
       "        vertical-align: top;\n",
       "    }\n",
       "\n",
       "    .dataframe thead th {\n",
       "        text-align: right;\n",
       "    }\n",
       "</style>\n",
       "<table border=\"1\" class=\"dataframe\">\n",
       "  <thead>\n",
       "    <tr style=\"text-align: right;\">\n",
       "      <th></th>\n",
       "      <th>title</th>\n",
       "      <th>description</th>\n",
       "      <th>genre</th>\n",
       "    </tr>\n",
       "  </thead>\n",
       "  <tbody>\n",
       "    <tr>\n",
       "      <th>0</th>\n",
       "      <td>the green mile</td>\n",
       "      <td>Emerytowany strażnik więzienny opowiada przyja...</td>\n",
       "      <td>Dramat</td>\n",
       "    </tr>\n",
       "    <tr>\n",
       "      <th>1</th>\n",
       "      <td>the shawshank redemption</td>\n",
       "      <td>Adaptacja opowiadania Stephena Kinga. Niesłusz...</td>\n",
       "      <td>Dramat</td>\n",
       "    </tr>\n",
       "    <tr>\n",
       "      <th>2</th>\n",
       "      <td>forrest gump</td>\n",
       "      <td>Historia życia Forresta, chłopca o niskim ilor...</td>\n",
       "      <td>Dramat / Komedia</td>\n",
       "    </tr>\n",
       "    <tr>\n",
       "      <th>3</th>\n",
       "      <td>leon</td>\n",
       "      <td>Płatny morderca ratuje dwunastoletnią dziewczy...</td>\n",
       "      <td>Dramat / Kryminał</td>\n",
       "    </tr>\n",
       "    <tr>\n",
       "      <th>4</th>\n",
       "      <td>requiem for a dream</td>\n",
       "      <td>Historia czwórki bohaterów, dla których używki...</td>\n",
       "      <td>Dramat</td>\n",
       "    </tr>\n",
       "    <tr>\n",
       "      <th>...</th>\n",
       "      <td>...</td>\n",
       "      <td>...</td>\n",
       "      <td>...</td>\n",
       "    </tr>\n",
       "    <tr>\n",
       "      <th>9938</th>\n",
       "      <td>dark angel</td>\n",
       "      <td>Policyjny detektyw zostaje wplątany w zagrażaj...</td>\n",
       "      <td>Thriller / Sci-Fi</td>\n",
       "    </tr>\n",
       "    <tr>\n",
       "      <th>9939</th>\n",
       "      <td>pozegnanie z maria</td>\n",
       "      <td>Grupa młodych ludzi próbuje zachować resztki n...</td>\n",
       "      <td>Melodramat / Wojenny</td>\n",
       "    </tr>\n",
       "    <tr>\n",
       "      <th>9940</th>\n",
       "      <td>rh+</td>\n",
       "      <td>Rh (+) to opowieść o grupie dwudziestokilkule...</td>\n",
       "      <td>Kryminał / Sensacyjny</td>\n",
       "    </tr>\n",
       "    <tr>\n",
       "      <th>9941</th>\n",
       "      <td>wet hot american summer</td>\n",
       "      <td>Grupa opiekunów letniego obozu, podczas ostatn...</td>\n",
       "      <td>Komedia rom.</td>\n",
       "    </tr>\n",
       "    <tr>\n",
       "      <th>9942</th>\n",
       "      <td>the sicilian</td>\n",
       "      <td>Wyjęty spod prawa Salvatore Giuliano razem z g...</td>\n",
       "      <td>Biograficzny / Dramat / Kryminał</td>\n",
       "    </tr>\n",
       "  </tbody>\n",
       "</table>\n",
       "<p>9943 rows × 3 columns</p>\n",
       "</div>"
      ],
      "text/plain": [
       "                         title  \\\n",
       "0               the green mile   \n",
       "1     the shawshank redemption   \n",
       "2                 forrest gump   \n",
       "3                         leon   \n",
       "4          requiem for a dream   \n",
       "...                        ...   \n",
       "9938                dark angel   \n",
       "9939        pozegnanie z maria   \n",
       "9940                       rh+   \n",
       "9941   wet hot american summer   \n",
       "9942              the sicilian   \n",
       "\n",
       "                                            description  \\\n",
       "0     Emerytowany strażnik więzienny opowiada przyja...   \n",
       "1     Adaptacja opowiadania Stephena Kinga. Niesłusz...   \n",
       "2     Historia życia Forresta, chłopca o niskim ilor...   \n",
       "3     Płatny morderca ratuje dwunastoletnią dziewczy...   \n",
       "4     Historia czwórki bohaterów, dla których używki...   \n",
       "...                                                 ...   \n",
       "9938  Policyjny detektyw zostaje wplątany w zagrażaj...   \n",
       "9939  Grupa młodych ludzi próbuje zachować resztki n...   \n",
       "9940   Rh (+) to opowieść o grupie dwudziestokilkule...   \n",
       "9941  Grupa opiekunów letniego obozu, podczas ostatn...   \n",
       "9942  Wyjęty spod prawa Salvatore Giuliano razem z g...   \n",
       "\n",
       "                                 genre  \n",
       "0                               Dramat  \n",
       "1                               Dramat  \n",
       "2                     Dramat / Komedia  \n",
       "3                    Dramat / Kryminał  \n",
       "4                               Dramat  \n",
       "...                                ...  \n",
       "9938                 Thriller / Sci-Fi  \n",
       "9939              Melodramat / Wojenny  \n",
       "9940             Kryminał / Sensacyjny  \n",
       "9941                      Komedia rom.  \n",
       "9942  Biograficzny / Dramat / Kryminał  \n",
       "\n",
       "[9943 rows x 3 columns]"
      ]
     },
     "execution_count": 23,
     "metadata": {},
     "output_type": "execute_result"
    }
   ],
   "source": [
    "df_filmweb"
   ]
  },
  {
   "cell_type": "code",
   "execution_count": 24,
   "metadata": {},
   "outputs": [
    {
     "data": {
      "text/html": [
       "<div>\n",
       "<style scoped>\n",
       "    .dataframe tbody tr th:only-of-type {\n",
       "        vertical-align: middle;\n",
       "    }\n",
       "\n",
       "    .dataframe tbody tr th {\n",
       "        vertical-align: top;\n",
       "    }\n",
       "\n",
       "    .dataframe thead th {\n",
       "        text-align: right;\n",
       "    }\n",
       "</style>\n",
       "<table border=\"1\" class=\"dataframe\">\n",
       "  <thead>\n",
       "    <tr style=\"text-align: right;\">\n",
       "      <th></th>\n",
       "      <th>title</th>\n",
       "      <th>description</th>\n",
       "      <th>genre</th>\n",
       "    </tr>\n",
       "  </thead>\n",
       "  <tbody>\n",
       "    <tr>\n",
       "      <th>0</th>\n",
       "      <td>oscar et la dame rose</td>\n",
       "      <td>Listening in to a conversation between his do...</td>\n",
       "      <td>drama</td>\n",
       "    </tr>\n",
       "    <tr>\n",
       "      <th>1</th>\n",
       "      <td>cupid</td>\n",
       "      <td>A brother and sister with a past incestuous r...</td>\n",
       "      <td>thriller</td>\n",
       "    </tr>\n",
       "    <tr>\n",
       "      <th>2</th>\n",
       "      <td>young, wild and wonderful</td>\n",
       "      <td>As the bus empties the students for their fie...</td>\n",
       "      <td>adult</td>\n",
       "    </tr>\n",
       "    <tr>\n",
       "      <th>3</th>\n",
       "      <td>the secret sin</td>\n",
       "      <td>To help their unemployed father make ends mee...</td>\n",
       "      <td>drama</td>\n",
       "    </tr>\n",
       "    <tr>\n",
       "      <th>4</th>\n",
       "      <td>the unrecovered</td>\n",
       "      <td>The film's title refers not only to the un-re...</td>\n",
       "      <td>drama</td>\n",
       "    </tr>\n",
       "    <tr>\n",
       "      <th>...</th>\n",
       "      <td>...</td>\n",
       "      <td>...</td>\n",
       "      <td>...</td>\n",
       "    </tr>\n",
       "    <tr>\n",
       "      <th>108409</th>\n",
       "      <td>tales of light &amp; dark</td>\n",
       "      <td>Covering multiple genres, Tales of Light &amp; Da...</td>\n",
       "      <td>horror</td>\n",
       "    </tr>\n",
       "    <tr>\n",
       "      <th>108410</th>\n",
       "      <td>der letzte mohikaner</td>\n",
       "      <td>As Alice and Cora Munro attempt to find their...</td>\n",
       "      <td>western</td>\n",
       "    </tr>\n",
       "    <tr>\n",
       "      <th>108411</th>\n",
       "      <td>oliver twink</td>\n",
       "      <td>A movie 169 years in the making. Oliver Twist...</td>\n",
       "      <td>adult</td>\n",
       "    </tr>\n",
       "    <tr>\n",
       "      <th>108412</th>\n",
       "      <td>slipstream</td>\n",
       "      <td>Popular, but mysterious rock D.J Mike Mallard...</td>\n",
       "      <td>drama</td>\n",
       "    </tr>\n",
       "    <tr>\n",
       "      <th>108413</th>\n",
       "      <td>curitiba zero grau</td>\n",
       "      <td>Curitiba is a city in movement, with rhythms ...</td>\n",
       "      <td>drama</td>\n",
       "    </tr>\n",
       "  </tbody>\n",
       "</table>\n",
       "<p>108414 rows × 3 columns</p>\n",
       "</div>"
      ],
      "text/plain": [
       "                            title  \\\n",
       "0           oscar et la dame rose   \n",
       "1                           cupid   \n",
       "2       young, wild and wonderful   \n",
       "3                  the secret sin   \n",
       "4                 the unrecovered   \n",
       "...                           ...   \n",
       "108409      tales of light & dark   \n",
       "108410       der letzte mohikaner   \n",
       "108411               oliver twink   \n",
       "108412                 slipstream   \n",
       "108413         curitiba zero grau   \n",
       "\n",
       "                                              description     genre  \n",
       "0        Listening in to a conversation between his do...     drama  \n",
       "1        A brother and sister with a past incestuous r...  thriller  \n",
       "2        As the bus empties the students for their fie...     adult  \n",
       "3        To help their unemployed father make ends mee...     drama  \n",
       "4        The film's title refers not only to the un-re...     drama  \n",
       "...                                                   ...       ...  \n",
       "108409   Covering multiple genres, Tales of Light & Da...    horror  \n",
       "108410   As Alice and Cora Munro attempt to find their...   western  \n",
       "108411   A movie 169 years in the making. Oliver Twist...     adult  \n",
       "108412   Popular, but mysterious rock D.J Mike Mallard...     drama  \n",
       "108413   Curitiba is a city in movement, with rhythms ...     drama  \n",
       "\n",
       "[108414 rows x 3 columns]"
      ]
     },
     "execution_count": 24,
     "metadata": {},
     "output_type": "execute_result"
    }
   ],
   "source": [
    "df_imdb_all = df_imdb_all.iloc[:, [0,2,1]]\n",
    "## I've seen that the genre column in imdb dataset was padded with spaces\n",
    "## and the belowe cell with filmweb data manipulation did not work because of that\n",
    "## so I've stripped it from those spaces\n",
    "df_imdb_all[\"genre\"] = df_imdb_all[\"genre\"].str.strip()\n",
    "df_imdb_all"
   ]
  },
  {
   "cell_type": "code",
   "execution_count": 25,
   "metadata": {},
   "outputs": [
    {
     "data": {
      "text/html": [
       "<div>\n",
       "<style scoped>\n",
       "    .dataframe tbody tr th:only-of-type {\n",
       "        vertical-align: middle;\n",
       "    }\n",
       "\n",
       "    .dataframe tbody tr th {\n",
       "        vertical-align: top;\n",
       "    }\n",
       "\n",
       "    .dataframe thead th {\n",
       "        text-align: right;\n",
       "    }\n",
       "</style>\n",
       "<table border=\"1\" class=\"dataframe\">\n",
       "  <thead>\n",
       "    <tr style=\"text-align: right;\">\n",
       "      <th></th>\n",
       "      <th>title</th>\n",
       "      <th>description</th>\n",
       "      <th>genre</th>\n",
       "    </tr>\n",
       "  </thead>\n",
       "  <tbody>\n",
       "    <tr>\n",
       "      <th>0</th>\n",
       "      <td>the green mile</td>\n",
       "      <td>Emerytowany strażnik więzienny opowiada przyja...</td>\n",
       "      <td>drama</td>\n",
       "    </tr>\n",
       "    <tr>\n",
       "      <th>1</th>\n",
       "      <td>the shawshank redemption</td>\n",
       "      <td>Adaptacja opowiadania Stephena Kinga. Niesłusz...</td>\n",
       "      <td>drama</td>\n",
       "    </tr>\n",
       "    <tr>\n",
       "      <th>2</th>\n",
       "      <td>forrest gump</td>\n",
       "      <td>Historia życia Forresta, chłopca o niskim ilor...</td>\n",
       "      <td>drama</td>\n",
       "    </tr>\n",
       "    <tr>\n",
       "      <th>3</th>\n",
       "      <td>leon</td>\n",
       "      <td>Płatny morderca ratuje dwunastoletnią dziewczy...</td>\n",
       "      <td>drama</td>\n",
       "    </tr>\n",
       "    <tr>\n",
       "      <th>4</th>\n",
       "      <td>requiem for a dream</td>\n",
       "      <td>Historia czwórki bohaterów, dla których używki...</td>\n",
       "      <td>drama</td>\n",
       "    </tr>\n",
       "    <tr>\n",
       "      <th>...</th>\n",
       "      <td>...</td>\n",
       "      <td>...</td>\n",
       "      <td>...</td>\n",
       "    </tr>\n",
       "    <tr>\n",
       "      <th>9938</th>\n",
       "      <td>dark angel</td>\n",
       "      <td>Policyjny detektyw zostaje wplątany w zagrażaj...</td>\n",
       "      <td>thriller</td>\n",
       "    </tr>\n",
       "    <tr>\n",
       "      <th>9939</th>\n",
       "      <td>pozegnanie z maria</td>\n",
       "      <td>Grupa młodych ludzi próbuje zachować resztki n...</td>\n",
       "      <td>drama</td>\n",
       "    </tr>\n",
       "    <tr>\n",
       "      <th>9940</th>\n",
       "      <td>rh+</td>\n",
       "      <td>Rh (+) to opowieść o grupie dwudziestokilkule...</td>\n",
       "      <td>crime</td>\n",
       "    </tr>\n",
       "    <tr>\n",
       "      <th>9941</th>\n",
       "      <td>wet hot american summer</td>\n",
       "      <td>Grupa opiekunów letniego obozu, podczas ostatn...</td>\n",
       "      <td>comedy</td>\n",
       "    </tr>\n",
       "    <tr>\n",
       "      <th>9942</th>\n",
       "      <td>the sicilian</td>\n",
       "      <td>Wyjęty spod prawa Salvatore Giuliano razem z g...</td>\n",
       "      <td>biography</td>\n",
       "    </tr>\n",
       "  </tbody>\n",
       "</table>\n",
       "<p>9598 rows × 3 columns</p>\n",
       "</div>"
      ],
      "text/plain": [
       "                         title  \\\n",
       "0               the green mile   \n",
       "1     the shawshank redemption   \n",
       "2                 forrest gump   \n",
       "3                         leon   \n",
       "4          requiem for a dream   \n",
       "...                        ...   \n",
       "9938                dark angel   \n",
       "9939        pozegnanie z maria   \n",
       "9940                       rh+   \n",
       "9941   wet hot american summer   \n",
       "9942              the sicilian   \n",
       "\n",
       "                                            description      genre  \n",
       "0     Emerytowany strażnik więzienny opowiada przyja...      drama  \n",
       "1     Adaptacja opowiadania Stephena Kinga. Niesłusz...      drama  \n",
       "2     Historia życia Forresta, chłopca o niskim ilor...      drama  \n",
       "3     Płatny morderca ratuje dwunastoletnią dziewczy...      drama  \n",
       "4     Historia czwórki bohaterów, dla których używki...      drama  \n",
       "...                                                 ...        ...  \n",
       "9938  Policyjny detektyw zostaje wplątany w zagrażaj...   thriller  \n",
       "9939  Grupa młodych ludzi próbuje zachować resztki n...      drama  \n",
       "9940   Rh (+) to opowieść o grupie dwudziestokilkule...      crime  \n",
       "9941  Grupa opiekunów letniego obozu, podczas ostatn...     comedy  \n",
       "9942  Wyjęty spod prawa Salvatore Giuliano razem z g...  biography  \n",
       "\n",
       "[9598 rows x 3 columns]"
      ]
     },
     "execution_count": 25,
     "metadata": {},
     "output_type": "execute_result"
    }
   ],
   "source": [
    "## Okey so now that we have cleaned titles let's clean the genres for filmweb dataset\n",
    "df_filmweb = df_filmweb.pipe(first_genre_filmweb, set(df_imdb_all.genre))\n",
    "df_filmweb"
   ]
  },
  {
   "cell_type": "code",
   "execution_count": 26,
   "metadata": {},
   "outputs": [
    {
     "data": {
      "text/plain": [
       "1986"
      ]
     },
     "execution_count": 26,
     "metadata": {},
     "output_type": "execute_result"
    }
   ],
   "source": [
    "## Let's once again see how many movies are the same in both datasets\n",
    "## We've lost some movies due to \"genre missmatch\"(might think about it later)\n",
    "titles_filmweb = df_filmweb[\"title\"].pipe(clean_titles)\n",
    "titles_imdb = df_imdb_all[\"title\"].pipe(clean_titles)\n",
    "len(set(titles_filmweb) & set(titles_imdb))"
   ]
  },
  {
   "cell_type": "code",
   "execution_count": 27,
   "metadata": {},
   "outputs": [
    {
     "data": {
      "text/plain": [
       "1188"
      ]
     },
     "execution_count": 27,
     "metadata": {},
     "output_type": "execute_result"
    }
   ],
   "source": [
    "## Let's also check how many movies that belong to both datasets have the same genre\n",
    "## Not bad, 1178 movies belong to the same genres according to both datasets\n",
    "len( set(zip(df_filmweb.title, df_filmweb.genre)) & set(zip(df_imdb_all.title, df_imdb_all.genre)) )"
   ]
  },
  {
   "cell_type": "code",
   "execution_count": 28,
   "metadata": {},
   "outputs": [],
   "source": [
    "unique_genres_imdb = df_imdb_all.genre.str.strip().unique()"
   ]
  },
  {
   "cell_type": "code",
   "execution_count": 29,
   "metadata": {},
   "outputs": [],
   "source": [
    "boolean_mask = df_filmweb.genre.isin(unique_genres_imdb)"
   ]
  },
  {
   "cell_type": "code",
   "execution_count": 30,
   "metadata": {},
   "outputs": [],
   "source": [
    "df_filmweb = df_filmweb[boolean_mask].reset_index(drop=True)"
   ]
  },
  {
   "cell_type": "code",
   "execution_count": 31,
   "metadata": {},
   "outputs": [
    {
     "data": {
      "text/plain": [
       "genre\n",
       "drama          3899\n",
       "comedy         1458\n",
       "thriller        899\n",
       "horror          696\n",
       "biography       539\n",
       "animation       393\n",
       "action          322\n",
       "fantasy         281\n",
       "family          251\n",
       "crime           244\n",
       "documentary     243\n",
       "adventure       162\n",
       "sci-fi           57\n",
       "western          53\n",
       "romance          43\n",
       "musical          28\n",
       "war              17\n",
       "short             7\n",
       "music             6\n",
       "dtype: int64"
      ]
     },
     "execution_count": 31,
     "metadata": {},
     "output_type": "execute_result"
    }
   ],
   "source": [
    "df_filmweb.groupby(\"genre\").size().sort_values(ascending=False)"
   ]
  },
  {
   "cell_type": "code",
   "execution_count": 32,
   "metadata": {},
   "outputs": [
    {
     "data": {
      "text/plain": [
       "genre\n",
       "drama          27225\n",
       "documentary    26192\n",
       "comedy         14893\n",
       "short          10145\n",
       "horror          4408\n",
       "thriller        3181\n",
       "action          2629\n",
       "western         2064\n",
       "reality-tv      1767\n",
       "family          1567\n",
       "adventure       1550\n",
       "music           1462\n",
       "romance         1344\n",
       "sci-fi          1293\n",
       "adult           1180\n",
       "crime           1010\n",
       "animation        996\n",
       "sport            863\n",
       "talk-show        782\n",
       "fantasy          645\n",
       "mystery          637\n",
       "musical          553\n",
       "biography        529\n",
       "history          486\n",
       "game-show        387\n",
       "news             362\n",
       "war              264\n",
       "dtype: int64"
      ]
     },
     "execution_count": 32,
     "metadata": {},
     "output_type": "execute_result"
    }
   ],
   "source": [
    "df_imdb_all.groupby(\"genre\").size().sort_values(ascending=False)"
   ]
  },
  {
   "cell_type": "markdown",
   "metadata": {},
   "source": [
    "We would prorably have to think about what to do with movies that have less than {n} number of samples because it would be hard to get anything meaningful from them"
   ]
  },
  {
   "cell_type": "code",
   "execution_count": 33,
   "metadata": {},
   "outputs": [],
   "source": [
    "## drop movies with duplicated descriptions\n",
    "df_filmweb = df_filmweb.drop_duplicates(subset=[\"description\"])\n",
    "df_imdb_all = df_imdb_all.drop_duplicates(subset=[\"description\"])"
   ]
  },
  {
   "cell_type": "code",
   "execution_count": 34,
   "metadata": {},
   "outputs": [],
   "source": [
    "df_filmweb.to_csv(\"data/df_filmweb.csv\", index=False)\n",
    "df_imdb_all.to_csv(\"data/df_imdb.csv\", index=False)"
   ]
  },
  {
   "cell_type": "code",
   "execution_count": 37,
   "metadata": {},
   "outputs": [],
   "source": [
    "## Script to split the data into sets for further\n",
    "!python create_datasets.py data/df_filmweb.csv data/df_imdb.csv splits.csv"
   ]
  },
  {
   "cell_type": "code",
   "execution_count": 75,
   "metadata": {},
   "outputs": [],
   "source": [
    "df_filmweb_sampled, df_imdb_all_sampled = down_sample_both_dfs(df_filmweb, df_imdb_all, n_min=400, n_max=400)"
   ]
  },
  {
   "cell_type": "code",
   "execution_count": 93,
   "metadata": {},
   "outputs": [
    {
     "data": {
      "text/plain": [
       "True"
      ]
     },
     "execution_count": 93,
     "metadata": {},
     "output_type": "execute_result"
    }
   ],
   "source": [
    "(df_filmweb_sampled.groupby(\"genre\").size() == df_imdb_all_sampled.groupby(\"genre\").size()).all()"
   ]
  },
  {
   "cell_type": "code",
   "execution_count": 94,
   "metadata": {},
   "outputs": [
    {
     "data": {
      "text/html": [
       "<div>\n",
       "<style scoped>\n",
       "    .dataframe tbody tr th:only-of-type {\n",
       "        vertical-align: middle;\n",
       "    }\n",
       "\n",
       "    .dataframe tbody tr th {\n",
       "        vertical-align: top;\n",
       "    }\n",
       "\n",
       "    .dataframe thead th {\n",
       "        text-align: right;\n",
       "    }\n",
       "</style>\n",
       "<table border=\"1\" class=\"dataframe\">\n",
       "  <thead>\n",
       "    <tr style=\"text-align: right;\">\n",
       "      <th></th>\n",
       "      <th>title</th>\n",
       "      <th>description</th>\n",
       "      <th>genre</th>\n",
       "    </tr>\n",
       "  </thead>\n",
       "  <tbody>\n",
       "    <tr>\n",
       "      <th>1860</th>\n",
       "      <td>el metodo</td>\n",
       "      <td>Siedmioro kandydatów walczy o kierownicze stan...</td>\n",
       "      <td>drama</td>\n",
       "    </tr>\n",
       "    <tr>\n",
       "      <th>353</th>\n",
       "      <td>fighting with my family</td>\n",
       "      <td>Były wrestler i jego rodzina występują na ring...</td>\n",
       "      <td>biography</td>\n",
       "    </tr>\n",
       "    <tr>\n",
       "      <th>1333</th>\n",
       "      <td>ju-on</td>\n",
       "      <td>Rika jako wolontariuszka trafia do starego dom...</td>\n",
       "      <td>horror</td>\n",
       "    </tr>\n",
       "    <tr>\n",
       "      <th>905</th>\n",
       "      <td>unicorn store</td>\n",
       "      <td>Ekscentryczna malarka wylatuje ze&amp;nbsp;szkoły ...</td>\n",
       "      <td>comedy</td>\n",
       "    </tr>\n",
       "    <tr>\n",
       "      <th>1289</th>\n",
       "      <td>pandorum</td>\n",
       "      <td>Dwóch astronautów budzi się z hibernacji na op...</td>\n",
       "      <td>horror</td>\n",
       "    </tr>\n",
       "    <tr>\n",
       "      <th>...</th>\n",
       "      <td>...</td>\n",
       "      <td>...</td>\n",
       "      <td>...</td>\n",
       "    </tr>\n",
       "    <tr>\n",
       "      <th>1130</th>\n",
       "      <td>mirror mirror</td>\n",
       "      <td>Zła Królowa zazdrosna o Śnieżkę rozkazuje wygn...</td>\n",
       "      <td>comedy</td>\n",
       "    </tr>\n",
       "    <tr>\n",
       "      <th>1294</th>\n",
       "      <td>case 39</td>\n",
       "      <td>Pracownica socjalna stara się pomóc jednej ze ...</td>\n",
       "      <td>horror</td>\n",
       "    </tr>\n",
       "    <tr>\n",
       "      <th>860</th>\n",
       "      <td>vicky cristina barcelona</td>\n",
       "      <td>Dwie młode Amerykanki, Vicky i Cristina, przyj...</td>\n",
       "      <td>comedy</td>\n",
       "    </tr>\n",
       "    <tr>\n",
       "      <th>1459</th>\n",
       "      <td>i still know what you did last summer</td>\n",
       "      <td>Grupa nastolatków musi stawić czoła maniakalne...</td>\n",
       "      <td>horror</td>\n",
       "    </tr>\n",
       "    <tr>\n",
       "      <th>1126</th>\n",
       "      <td>stretch</td>\n",
       "      <td>Kierowca podejmuje pracę u miliardera, który z...</td>\n",
       "      <td>comedy</td>\n",
       "    </tr>\n",
       "  </tbody>\n",
       "</table>\n",
       "<p>2000 rows × 3 columns</p>\n",
       "</div>"
      ],
      "text/plain": [
       "                                      title  \\\n",
       "1860                              el metodo   \n",
       "353                 fighting with my family   \n",
       "1333                                  ju-on   \n",
       "905                           unicorn store   \n",
       "1289                               pandorum   \n",
       "...                                     ...   \n",
       "1130                          mirror mirror   \n",
       "1294                                case 39   \n",
       "860                vicky cristina barcelona   \n",
       "1459  i still know what you did last summer   \n",
       "1126                                stretch   \n",
       "\n",
       "                                            description      genre  \n",
       "1860  Siedmioro kandydatów walczy o kierownicze stan...      drama  \n",
       "353   Były wrestler i jego rodzina występują na ring...  biography  \n",
       "1333  Rika jako wolontariuszka trafia do starego dom...     horror  \n",
       "905   Ekscentryczna malarka wylatuje ze&nbsp;szkoły ...     comedy  \n",
       "1289  Dwóch astronautów budzi się z hibernacji na op...     horror  \n",
       "...                                                 ...        ...  \n",
       "1130  Zła Królowa zazdrosna o Śnieżkę rozkazuje wygn...     comedy  \n",
       "1294  Pracownica socjalna stara się pomóc jednej ze ...     horror  \n",
       "860   Dwie młode Amerykanki, Vicky i Cristina, przyj...     comedy  \n",
       "1459  Grupa nastolatków musi stawić czoła maniakalne...     horror  \n",
       "1126  Kierowca podejmuje pracę u miliardera, który z...     comedy  \n",
       "\n",
       "[2000 rows x 3 columns]"
      ]
     },
     "execution_count": 94,
     "metadata": {},
     "output_type": "execute_result"
    }
   ],
   "source": [
    "df_filmweb_sampled.sample(frac=1., random_state=42)"
   ]
  },
  {
   "cell_type": "code",
   "execution_count": 95,
   "metadata": {},
   "outputs": [
    {
     "data": {
      "text/html": [
       "<div>\n",
       "<style scoped>\n",
       "    .dataframe tbody tr th:only-of-type {\n",
       "        vertical-align: middle;\n",
       "    }\n",
       "\n",
       "    .dataframe tbody tr th {\n",
       "        vertical-align: top;\n",
       "    }\n",
       "\n",
       "    .dataframe thead th {\n",
       "        text-align: right;\n",
       "    }\n",
       "</style>\n",
       "<table border=\"1\" class=\"dataframe\">\n",
       "  <thead>\n",
       "    <tr style=\"text-align: right;\">\n",
       "      <th></th>\n",
       "      <th>title</th>\n",
       "      <th>description</th>\n",
       "      <th>genre</th>\n",
       "    </tr>\n",
       "  </thead>\n",
       "  <tbody>\n",
       "    <tr>\n",
       "      <th>1860</th>\n",
       "      <td>samaria</td>\n",
       "      <td>Jae-Young is an amateur prostitute who sleeps...</td>\n",
       "      <td>drama</td>\n",
       "    </tr>\n",
       "    <tr>\n",
       "      <th>353</th>\n",
       "      <td>dorihwaga</td>\n",
       "      <td>During the Joseon Dynasty, singing teacher Sh...</td>\n",
       "      <td>biography</td>\n",
       "    </tr>\n",
       "    <tr>\n",
       "      <th>1333</th>\n",
       "      <td>within the woods</td>\n",
       "      <td>A new reality show invites five brave souls t...</td>\n",
       "      <td>horror</td>\n",
       "    </tr>\n",
       "    <tr>\n",
       "      <th>905</th>\n",
       "      <td>happy holidays</td>\n",
       "      <td>\"Happy Holidays\" is a film that takes a comed...</td>\n",
       "      <td>comedy</td>\n",
       "    </tr>\n",
       "    <tr>\n",
       "      <th>1289</th>\n",
       "      <td>13th sign</td>\n",
       "      <td>Twelve individuals who think they are competi...</td>\n",
       "      <td>horror</td>\n",
       "    </tr>\n",
       "    <tr>\n",
       "      <th>...</th>\n",
       "      <td>...</td>\n",
       "      <td>...</td>\n",
       "      <td>...</td>\n",
       "    </tr>\n",
       "    <tr>\n",
       "      <th>1130</th>\n",
       "      <td>the patsy</td>\n",
       "      <td>When a star comedian dies, his comedy team, d...</td>\n",
       "      <td>comedy</td>\n",
       "    </tr>\n",
       "    <tr>\n",
       "      <th>1294</th>\n",
       "      <td>crazed</td>\n",
       "      <td>A lonely, mother-dominated man becomes obsess...</td>\n",
       "      <td>horror</td>\n",
       "    </tr>\n",
       "    <tr>\n",
       "      <th>860</th>\n",
       "      <td>nautical adventures of capt sqns. nyc</td>\n",
       "      <td>A reality show gone mad. Join punk rocker Ton...</td>\n",
       "      <td>comedy</td>\n",
       "    </tr>\n",
       "    <tr>\n",
       "      <th>1459</th>\n",
       "      <td>psycho charlies revenge</td>\n",
       "      <td>Charlie's back for revenge! But not before he...</td>\n",
       "      <td>horror</td>\n",
       "    </tr>\n",
       "    <tr>\n",
       "      <th>1126</th>\n",
       "      <td>don juan</td>\n",
       "      <td>Sganarelle is womanizer Don Juan's servant .A...</td>\n",
       "      <td>comedy</td>\n",
       "    </tr>\n",
       "  </tbody>\n",
       "</table>\n",
       "<p>2000 rows × 3 columns</p>\n",
       "</div>"
      ],
      "text/plain": [
       "                                      title  \\\n",
       "1860                                samaria   \n",
       "353                               dorihwaga   \n",
       "1333                       within the woods   \n",
       "905                          happy holidays   \n",
       "1289                              13th sign   \n",
       "...                                     ...   \n",
       "1130                              the patsy   \n",
       "1294                                 crazed   \n",
       "860   nautical adventures of capt sqns. nyc   \n",
       "1459                psycho charlies revenge   \n",
       "1126                               don juan   \n",
       "\n",
       "                                            description      genre  \n",
       "1860   Jae-Young is an amateur prostitute who sleeps...      drama  \n",
       "353    During the Joseon Dynasty, singing teacher Sh...  biography  \n",
       "1333   A new reality show invites five brave souls t...     horror  \n",
       "905    \"Happy Holidays\" is a film that takes a comed...     comedy  \n",
       "1289   Twelve individuals who think they are competi...     horror  \n",
       "...                                                 ...        ...  \n",
       "1130   When a star comedian dies, his comedy team, d...     comedy  \n",
       "1294   A lonely, mother-dominated man becomes obsess...     horror  \n",
       "860    A reality show gone mad. Join punk rocker Ton...     comedy  \n",
       "1459   Charlie's back for revenge! But not before he...     horror  \n",
       "1126   Sganarelle is womanizer Don Juan's servant .A...     comedy  \n",
       "\n",
       "[2000 rows x 3 columns]"
      ]
     },
     "execution_count": 95,
     "metadata": {},
     "output_type": "execute_result"
    }
   ],
   "source": [
    "df_imdb_all_sampled.sample(frac=1., random_state=42)"
   ]
  },
  {
   "cell_type": "code",
   "execution_count": 96,
   "metadata": {},
   "outputs": [],
   "source": [
    "## Let's do some more EDA now"
   ]
  },
  {
   "cell_type": "code",
   "execution_count": 97,
   "metadata": {},
   "outputs": [
    {
     "data": {
      "image/png": "[encoded data removed]",
      "text/plain": [
       "<Figure size 432x288 with 1 Axes>"
      ]
     },
     "metadata": {
      "needs_background": "light"
     },
     "output_type": "display_data"
    }
   ],
   "source": [
    "## The same as with imdb dataset (right now at least)\n",
    "df_filmweb_sampled.groupby(\"genre\").size().plot.bar(edgecolor=\"k\")\n",
    "plt.show()"
   ]
  },
  {
   "cell_type": "markdown",
   "metadata": {},
   "source": [
    "Let's check for average number of words by genre in two datasets"
   ]
  },
  {
   "cell_type": "code",
   "execution_count": 98,
   "metadata": {},
   "outputs": [],
   "source": [
    "df_filmweb_sampled[\"words_per_description\"] = df_filmweb_sampled[\"description\"].str.split().apply(len)\n",
    "df_imdb_all_sampled[\"words_per_description\"] = df_imdb_all_sampled[\"description\"].str.split().apply(len)"
   ]
  },
  {
   "cell_type": "code",
   "execution_count": 99,
   "metadata": {},
   "outputs": [],
   "source": [
    "percentile97 = df_imdb_all_sampled[\"words_per_description\"].quantile(0.97)"
   ]
  },
  {
   "cell_type": "code",
   "execution_count": 100,
   "metadata": {},
   "outputs": [
    {
     "data": {
      "text/plain": [
       "284.0899999999999"
      ]
     },
     "execution_count": 100,
     "metadata": {},
     "output_type": "execute_result"
    }
   ],
   "source": [
    "percentile97"
   ]
  },
  {
   "cell_type": "code",
   "execution_count": 101,
   "metadata": {},
   "outputs": [
    {
     "data": {
      "image/png": "[encoded data removed]",
      "text/plain": [
       "<Figure size 1080x432 with 1 Axes>"
      ]
     },
     "metadata": {
      "needs_background": "light"
     },
     "output_type": "display_data"
    }
   ],
   "source": [
    "df_filmweb_sampled.boxplot(\"words_per_description\", by=\"genre\", grid=False,\n",
    "showfliers=False, color=\"black\", figsize=(15, 6))\n",
    "plt.ylim((-10, percentile97))\n",
    "plt.title(\"Words per description - Filmweb\")\n",
    "plt.suptitle(\"\")\n",
    "plt.xlabel(\"\")\n",
    "plt.show()"
   ]
  },
  {
   "cell_type": "code",
   "execution_count": 102,
   "metadata": {},
   "outputs": [
    {
     "data": {
      "image/png": "[encoded data removed]",
      "text/plain": [
       "<Figure size 1080x432 with 1 Axes>"
      ]
     },
     "metadata": {
      "needs_background": "light"
     },
     "output_type": "display_data"
    }
   ],
   "source": [
    "df_imdb_all_sampled.boxplot(\"words_per_description\", by=\"genre\", grid=False,\n",
    "showfliers=False, color=\"black\", figsize=(15, 6))\n",
    "plt.title(\"Words per description - IMDB\")\n",
    "plt.ylim(-10, percentile97)\n",
    "plt.suptitle(\"\")\n",
    "plt.xlabel(\"\")\n",
    "plt.show()"
   ]
  },
  {
   "cell_type": "markdown",
   "metadata": {},
   "source": [
    "#### Some tests with oversampling\n",
    "This might be needed because classes are heavely imbalanced, but to get something better than random over sampling we would first have to get the feature vector\n",
    "which will be produced by BERT(at least that's what we plan to use at the moment)"
   ]
  },
  {
   "cell_type": "code",
   "execution_count": 168,
   "metadata": {},
   "outputs": [],
   "source": [
    "from imblearn.over_sampling import RandomOverSampler"
   ]
  },
  {
   "cell_type": "code",
   "execution_count": 169,
   "metadata": {},
   "outputs": [],
   "source": [
    "X_filmweb, y_filmweb = df_filmweb_sampled[[\"title\", \"description\"]], df_filmweb_sampled[\"genre\"]"
   ]
  },
  {
   "cell_type": "code",
   "execution_count": 170,
   "metadata": {},
   "outputs": [
    {
     "data": {
      "text/plain": [
       "(9487, 2)"
      ]
     },
     "execution_count": 170,
     "metadata": {},
     "output_type": "execute_result"
    }
   ],
   "source": [
    "np.array(X_filmweb).reshape(-1, 2).shape"
   ]
  },
  {
   "cell_type": "code",
   "execution_count": 171,
   "metadata": {},
   "outputs": [],
   "source": [
    "ros = RandomOverSampler(random_state=0)"
   ]
  },
  {
   "cell_type": "code",
   "execution_count": 172,
   "metadata": {},
   "outputs": [],
   "source": [
    "X_resampled, y_resampled = ros.fit_resample(np.array(X_filmweb).reshape(-1, 2), np.array(y_filmweb).reshape(-1, 1))"
   ]
  },
  {
   "cell_type": "code",
   "execution_count": 173,
   "metadata": {},
   "outputs": [
    {
     "data": {
      "text/plain": [
       "thriller       0.071429\n",
       "action         0.071429\n",
       "sci-fi         0.071429\n",
       "animation      0.071429\n",
       "crime          0.071429\n",
       "biography      0.071429\n",
       "horror         0.071429\n",
       "western        0.071429\n",
       "family         0.071429\n",
       "comedy         0.071429\n",
       "drama          0.071429\n",
       "fantasy        0.071429\n",
       "documentary    0.071429\n",
       "adventure      0.071429\n",
       "dtype: float64"
      ]
     },
     "execution_count": 173,
     "metadata": {},
     "output_type": "execute_result"
    }
   ],
   "source": [
    "pd.Series(y_resampled).value_counts(normalize=True)"
   ]
  },
  {
   "cell_type": "code",
   "execution_count": 177,
   "metadata": {},
   "outputs": [
    {
     "data": {
      "text/html": [
       "<div>\n",
       "<style scoped>\n",
       "    .dataframe tbody tr th:only-of-type {\n",
       "        vertical-align: middle;\n",
       "    }\n",
       "\n",
       "    .dataframe tbody tr th {\n",
       "        vertical-align: top;\n",
       "    }\n",
       "\n",
       "    .dataframe thead th {\n",
       "        text-align: right;\n",
       "    }\n",
       "</style>\n",
       "<table border=\"1\" class=\"dataframe\">\n",
       "  <thead>\n",
       "    <tr style=\"text-align: right;\">\n",
       "      <th></th>\n",
       "      <th>title</th>\n",
       "      <th>description</th>\n",
       "    </tr>\n",
       "  </thead>\n",
       "  <tbody>\n",
       "    <tr>\n",
       "      <th>0</th>\n",
       "      <td>payback</td>\n",
       "      <td>Zdradzony przez wspólnika złodziej planuje sro...</td>\n",
       "    </tr>\n",
       "    <tr>\n",
       "      <th>1</th>\n",
       "      <td>the seasoning house</td>\n",
       "      <td>Młoda kobieta, będąc opiekunką prostytuujących...</td>\n",
       "    </tr>\n",
       "    <tr>\n",
       "      <th>2</th>\n",
       "      <td>cold creek manor</td>\n",
       "      <td>Rodzina Tilsonów przeprowadza się do nowego do...</td>\n",
       "    </tr>\n",
       "    <tr>\n",
       "      <th>3</th>\n",
       "      <td>3 days to kill</td>\n",
       "      <td>W zamian za wykonanie ostatniego zlecenia śmie...</td>\n",
       "    </tr>\n",
       "    <tr>\n",
       "      <th>4</th>\n",
       "      <td>the others</td>\n",
       "      <td>Dzieci Grace cierpią z powodu choroby, przez k...</td>\n",
       "    </tr>\n",
       "    <tr>\n",
       "      <th>...</th>\n",
       "      <td>...</td>\n",
       "      <td>...</td>\n",
       "    </tr>\n",
       "    <tr>\n",
       "      <th>54581</th>\n",
       "      <td>das finstere tal</td>\n",
       "      <td>Austria, koniec XIX wieku. Do małej wioski prz...</td>\n",
       "    </tr>\n",
       "    <tr>\n",
       "      <th>54582</th>\n",
       "      <td>el dorado</td>\n",
       "      <td>Doświadczony rewolwerowiec wraz z trzema towar...</td>\n",
       "    </tr>\n",
       "    <tr>\n",
       "      <th>54583</th>\n",
       "      <td>the hateful eight</td>\n",
       "      <td>Dwaj łowcy głów, próbując znaleźć schronienie ...</td>\n",
       "    </tr>\n",
       "    <tr>\n",
       "      <th>54584</th>\n",
       "      <td>the magnificent seven</td>\n",
       "      <td>Spokojna, rolnicza wioska jest terroryzowana p...</td>\n",
       "    </tr>\n",
       "    <tr>\n",
       "      <th>54585</th>\n",
       "      <td>sweet country</td>\n",
       "      <td>Aborygen zabija w samoobronie białego pracodaw...</td>\n",
       "    </tr>\n",
       "  </tbody>\n",
       "</table>\n",
       "<p>54586 rows × 2 columns</p>\n",
       "</div>"
      ],
      "text/plain": [
       "                       title  \\\n",
       "0                    payback   \n",
       "1        the seasoning house   \n",
       "2           cold creek manor   \n",
       "3             3 days to kill   \n",
       "4                 the others   \n",
       "...                      ...   \n",
       "54581       das finstere tal   \n",
       "54582              el dorado   \n",
       "54583      the hateful eight   \n",
       "54584  the magnificent seven   \n",
       "54585          sweet country   \n",
       "\n",
       "                                             description  \n",
       "0      Zdradzony przez wspólnika złodziej planuje sro...  \n",
       "1      Młoda kobieta, będąc opiekunką prostytuujących...  \n",
       "2      Rodzina Tilsonów przeprowadza się do nowego do...  \n",
       "3      W zamian za wykonanie ostatniego zlecenia śmie...  \n",
       "4      Dzieci Grace cierpią z powodu choroby, przez k...  \n",
       "...                                                  ...  \n",
       "54581  Austria, koniec XIX wieku. Do małej wioski prz...  \n",
       "54582  Doświadczony rewolwerowiec wraz z trzema towar...  \n",
       "54583  Dwaj łowcy głów, próbując znaleźć schronienie ...  \n",
       "54584  Spokojna, rolnicza wioska jest terroryzowana p...  \n",
       "54585  Aborygen zabija w samoobronie białego pracodaw...  \n",
       "\n",
       "[54586 rows x 2 columns]"
      ]
     },
     "execution_count": 177,
     "metadata": {},
     "output_type": "execute_result"
    }
   ],
   "source": [
    "pd.DataFrame(X_resampled, columns=[\"title\", \"description\"])"
   ]
  },
  {
   "cell_type": "code",
   "execution_count": null,
   "metadata": {},
   "outputs": [],
   "source": []
  }
 ],
 "metadata": {
  "interpreter": {
   "hash": "e504b13805a571caf9e9c36f147e70d112d45db5bb6c2cff7e2eb0040a5df090"
  },
  "kernelspec": {
   "display_name": "Python 3.9.4 ('general')",
   "language": "python",
   "name": "python3"
  },
  "language_info": {
   "codemirror_mode": {
    "name": "ipython",
    "version": 3
   },
   "file_extension": ".py",
   "mimetype": "text/x-python",
   "name": "python",
   "nbconvert_exporter": "python",
   "pygments_lexer": "ipython3",
   "version": "3.9.4"
  }
 },
 "nbformat": 4,
 "nbformat_minor": 2
}
